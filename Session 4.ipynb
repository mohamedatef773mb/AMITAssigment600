{
 "cells": [
  {
   "cell_type": "code",
   "execution_count": 23,
   "id": "2e753d96-7834-4e49-803a-e648a64ff666",
   "metadata": {},
   "outputs": [
    {
     "name": "stdin",
     "output_type": "stream",
     "text": [
      "Enter a value:  amit\n"
     ]
    },
    {
     "name": "stdout",
     "output_type": "stream",
     "text": [
      "['Learning', 'python', 'machine Learning', 'data Science', 'deep Learning']\n"
     ]
    }
   ],
   "source": [
    "input_list=[\"amit\",\"Learning\",\"python\",\"machine Learning\",\"data Science\",\"deep Learning\"]\n",
    "input_list.remove(input(\"Enter a value: \"))\n",
    "print(input_list)"
   ]
  },
  {
   "cell_type": "code",
   "execution_count": 13,
   "id": "cf8a4a9b-1cef-4f60-8533-f17047a3750b",
   "metadata": {},
   "outputs": [
    {
     "data": {
      "text/plain": [
       "1"
      ]
     },
     "execution_count": 13,
     "metadata": {},
     "output_type": "execute_result"
    }
   ],
   "source": [
    "name=\"amit\"\n",
    "name.count(\"a\")"
   ]
  },
  {
   "cell_type": "code",
   "execution_count": 15,
   "id": "fa6b60af-2307-41bd-88ce-2961ffa88e06",
   "metadata": {},
   "outputs": [
    {
     "data": {
      "text/plain": [
       "'amit'"
      ]
     },
     "execution_count": 15,
     "metadata": {},
     "output_type": "execute_result"
    }
   ],
   "source": [
    "input_list=[\"amit\",\"Learning\",\"python\",\"machine Learning\",\"data Science\",\"deep Learning\"]\n",
    "input_list.pop(0)"
   ]
  },
  {
   "cell_type": "code",
   "execution_count": 21,
   "id": "282fd559-d832-46dc-b1fb-1239200fdff8",
   "metadata": {},
   "outputs": [
    {
     "name": "stdout",
     "output_type": "stream",
     "text": [
      "['amit', 'Learning', 'python', 'machine Learning', 'data Science']\n"
     ]
    }
   ],
   "source": [
    "input_list=[\"amit\",\"Learning\",\"python\",\"machine Learning\",\"data Science\",\"deep Learning\"]\n",
    "input_list.pop()\n",
    "print(input_list)"
   ]
  },
  {
   "cell_type": "code",
   "execution_count": 25,
   "id": "211a6f78-bc8b-47e0-8f77-abd53a32e532",
   "metadata": {},
   "outputs": [
    {
     "data": {
      "text/plain": [
       "0"
      ]
     },
     "execution_count": 25,
     "metadata": {},
     "output_type": "execute_result"
    }
   ],
   "source": [
    "list_one=[1,1,1,2]\n",
    "list_one.index(1)"
   ]
  },
  {
   "cell_type": "code",
   "execution_count": 55,
   "id": "07250d28-045d-4c31-9af7-67aa0ab9a4c5",
   "metadata": {},
   "outputs": [
    {
     "name": "stdout",
     "output_type": "stream",
     "text": [
      "['YYYYYYY', 'amit', 'Z11', 'X']\n"
     ]
    }
   ],
   "source": [
    "list_one=[\"amit\",\"X\",\"YYYYYYY\",\"Z11\"]\n",
    "list_one.sort(reverse=True,key=len)\n",
    "print(list_one)"
   ]
  },
  {
   "cell_type": "code",
   "execution_count": 61,
   "id": "672c9da7-1cb9-4e96-87f4-c0b881ebcf05",
   "metadata": {},
   "outputs": [
    {
     "name": "stdout",
     "output_type": "stream",
     "text": [
      "[100, 0, 6, 5, -1, 2, 10]\n"
     ]
    }
   ],
   "source": [
    "list_one=[10,2,-1,5,6,0,100]\n",
    "list_one.reverse()\n",
    "print(list_one)"
   ]
  },
  {
   "cell_type": "code",
   "execution_count": 63,
   "id": "e57452d0-4e5a-4367-b8af-bc76a0854b87",
   "metadata": {},
   "outputs": [
    {
     "name": "stdout",
     "output_type": "stream",
     "text": [
      "[]\n"
     ]
    }
   ],
   "source": [
    "list_one=[10,2,-1,5,6,0,100]\n",
    "list_one.clear()\n",
    "print(list_one)"
   ]
  },
  {
   "cell_type": "code",
   "execution_count": 75,
   "id": "0fcfac97-9964-463c-994d-20b0cf5ddea2",
   "metadata": {},
   "outputs": [
    {
     "name": "stdout",
     "output_type": "stream",
     "text": [
      "[1, 2, 3, 4, 5]\n",
      "[1, 2, 3, 4, 5, 10]\n"
     ]
    }
   ],
   "source": [
    "x=[1,2,3,4,5]\n",
    "y=x.copy()\n",
    "y.append(10)\n",
    "print(x)\n",
    "print(y)"
   ]
  },
  {
   "cell_type": "code",
   "execution_count": 83,
   "id": "d7497db9-eb3b-4787-9348-7c649ad721ab",
   "metadata": {},
   "outputs": [
    {
     "name": "stdout",
     "output_type": "stream",
     "text": [
      "[1, 2, 3, 4, 'a', 'b', 'c']\n"
     ]
    }
   ],
   "source": [
    "x=[1,2,3,4]\n",
    "y=[\"a\",\"b\",\"c\"]\n",
    "print(x+y)"
   ]
  },
  {
   "cell_type": "code",
   "execution_count": 85,
   "id": "01f8c122-6c0e-4af3-a15f-ae57cd6f76a8",
   "metadata": {},
   "outputs": [
    {
     "name": "stdout",
     "output_type": "stream",
     "text": [
      "[1, 2, 3, 4, 'a', 'b', 'c']\n"
     ]
    }
   ],
   "source": [
    "x.extend(y)\n",
    "print(x)"
   ]
  },
  {
   "cell_type": "markdown",
   "id": "4204edd1-87de-45f8-b1b8-9e4a7ceae26e",
   "metadata": {},
   "source": [
    "# Tuple"
   ]
  },
  {
   "cell_type": "code",
   "execution_count": 90,
   "id": "41a6bb20-9e71-4a65-b873-acd0598e728a",
   "metadata": {},
   "outputs": [
    {
     "name": "stdout",
     "output_type": "stream",
     "text": [
      "(1, 2, 3, 4, [5, 7, 8, 8])\n"
     ]
    }
   ],
   "source": [
    "tuple_one=(1,2,3,4,[5,7,8,8])\n",
    "print(tuple_one)"
   ]
  },
  {
   "cell_type": "code",
   "execution_count": 104,
   "id": "49d1128a-4913-4d00-b2b5-eeadc9cd7ef7",
   "metadata": {},
   "outputs": [],
   "source": [
    "tuple_one[-1][0]=100"
   ]
  },
  {
   "cell_type": "code",
   "execution_count": 108,
   "id": "ee2130c6-d8ae-46ad-9bb8-2c51daada490",
   "metadata": {},
   "outputs": [],
   "source": [
    "# tuple_one[0]=100\n",
    "# TypeError: 'tuple' object does not support item assignment\n"
   ]
  },
  {
   "cell_type": "code",
   "execution_count": 110,
   "id": "f0cd93c6-393a-4e0f-b69e-24e8d5c9a7da",
   "metadata": {},
   "outputs": [],
   "source": [
    "# can convert list,str,set ,dict (keys) \n",
    "# can't covert float,int,bool"
   ]
  },
  {
   "cell_type": "code",
   "execution_count": 128,
   "id": "c6a330ff-3545-48ad-b02a-3ee6eac8c506",
   "metadata": {},
   "outputs": [
    {
     "name": "stdout",
     "output_type": "stream",
     "text": [
      "('Key1', 'Key2')\n"
     ]
    }
   ],
   "source": [
    "dict_one={\"Key1\":100,\"Key2\":200}\n",
    "print(tuple(dict_one))"
   ]
  },
  {
   "cell_type": "code",
   "execution_count": 134,
   "id": "124a3b5f-7342-46bb-bcf0-eff4ccb17e29",
   "metadata": {},
   "outputs": [
    {
     "name": "stdout",
     "output_type": "stream",
     "text": [
      "[2, 3, 4, [5, 7, 8, 8]]\n",
      "(2, 3, 4, [5, 7, 8, 8])\n"
     ]
    }
   ],
   "source": [
    "tuple_one=(1,2,3,4,[5,7,8,8])\n",
    "list_one=list(tuple_one)\n",
    "list_one.remove(1)\n",
    "print(list_one)\n",
    "tuple_one=tuple(list_one)\n",
    "print(tuple_one)\n"
   ]
  },
  {
   "cell_type": "code",
   "execution_count": 150,
   "id": "bb770c4c-3f9c-4530-ab1a-eef8caf23c65",
   "metadata": {},
   "outputs": [
    {
     "name": "stdout",
     "output_type": "stream",
     "text": [
      "2528675517024\n",
      "2528694173296\n",
      "(1, 2, 3, 4, 100)\n"
     ]
    }
   ],
   "source": [
    "tuple_one=(1,2,3,4)\n",
    "value=(100,)\n",
    "tuple_one=tuple_one+value\n",
    "print(tuple_one)"
   ]
  },
  {
   "cell_type": "code",
   "execution_count": 146,
   "id": "d86b4f52-e829-42eb-acab-154c160d9d79",
   "metadata": {},
   "outputs": [
    {
     "name": "stdout",
     "output_type": "stream",
     "text": [
      "<class 'tuple'>\n"
     ]
    }
   ],
   "source": [
    "value=(100,)\n",
    "print(type(value))"
   ]
  },
  {
   "cell_type": "markdown",
   "id": "4ec2e3bb-eeac-418b-a12e-b2aa82d4e00a",
   "metadata": {},
   "source": [
    "# Set"
   ]
  },
  {
   "cell_type": "code",
   "execution_count": 152,
   "id": "396c2e31-1eab-4a9d-a8ac-78120ae36673",
   "metadata": {},
   "outputs": [
    {
     "name": "stdout",
     "output_type": "stream",
     "text": [
      "{1, 2, 3, 4}\n"
     ]
    }
   ],
   "source": [
    "set_one={1,2,3,4}\n",
    "print(set_one)"
   ]
  },
  {
   "cell_type": "code",
   "execution_count": 1,
   "id": "c9ed4120-299b-4b58-b86f-a84d1b57a12e",
   "metadata": {},
   "outputs": [
    {
     "name": "stdout",
     "output_type": "stream",
     "text": [
      "{0, 50, 100, 6, -100, 'amit', -1}\n"
     ]
    }
   ],
   "source": [
    "set_one={-1,0,100,50,-100,6,\"amit\"}\n",
    "print(set_one)"
   ]
  },
  {
   "cell_type": "code",
   "execution_count": 45,
   "id": "5b34a8f6-9fa3-471c-9369-be56054b3cf1",
   "metadata": {},
   "outputs": [],
   "source": [
    "# set_one[0]=\"amit\"\n",
    "# TypeError: 'set' object does not support item assignment"
   ]
  },
  {
   "cell_type": "code",
   "execution_count": 6,
   "id": "6ac89005-a763-4977-9a54-30a9566e6d23",
   "metadata": {},
   "outputs": [
    {
     "name": "stdout",
     "output_type": "stream",
     "text": [
      "{0, 'python', 50, 100, 6, -100, 'amit', -1}\n"
     ]
    }
   ],
   "source": [
    "set_one.add(\"python\")\n",
    "print(set_one)"
   ]
  },
  {
   "cell_type": "code",
   "execution_count": 10,
   "id": "63c24e4d-cbd2-44a8-b6e9-b20b00d9f184",
   "metadata": {},
   "outputs": [
    {
     "name": "stdout",
     "output_type": "stream",
     "text": [
      "{0, 'python', 50, 100, 6, -100, -1}\n"
     ]
    }
   ],
   "source": [
    "set_one.remove(\"amit\")\n",
    "print(set_one)"
   ]
  },
  {
   "cell_type": "code",
   "execution_count": 1,
   "id": "f4615f16-966b-4151-9f2c-d7ddb38f1343",
   "metadata": {},
   "outputs": [
    {
     "name": "stdout",
     "output_type": "stream",
     "text": [
      "{'amit', 'Python'}\n"
     ]
    }
   ],
   "source": [
    "set_one={\"amit\",\"Python\",\"amit\"}\n",
    "print(set_one)"
   ]
  },
  {
   "cell_type": "markdown",
   "id": "f5f0d63e-7d5c-43ab-919b-0482f6e6a1b7",
   "metadata": {},
   "source": [
    "### Mutable Data types \n",
    "- List\n",
    "- Set\n",
    "- Dictionary\n",
    "### Immutable Data types\n",
    "- Tuple\n",
    "- Floating-pints numbers\n",
    "- integers\n",
    "- Strings\n",
    "- boolean"
   ]
  },
  {
   "cell_type": "code",
   "execution_count": 27,
   "id": "3277468d-fcf3-475e-bbf3-ab4d48e39372",
   "metadata": {},
   "outputs": [
    {
     "name": "stdout",
     "output_type": "stream",
     "text": [
      "{10, 5, 6, (10, 11, 12)}\n"
     ]
    }
   ],
   "source": [
    "set_one={10,5,6,(10,11,12)}\n",
    "print(set_one)"
   ]
  },
  {
   "cell_type": "code",
   "execution_count": 43,
   "id": "6c9a49f7-1655-4ad0-8f0b-43a0f998b7c5",
   "metadata": {},
   "outputs": [],
   "source": [
    "# name=True\n",
    "# print(set(name))\n",
    "# TypeError: 'bool' object is not iterable"
   ]
  },
  {
   "cell_type": "markdown",
   "id": "82b2340a-dd74-4dc4-baa8-54eb712e2114",
   "metadata": {},
   "source": [
    "# Dictionaries"
   ]
  },
  {
   "cell_type": "code",
   "execution_count": 50,
   "id": "9528c355-c5b7-475f-ba4e-a82ced2727d9",
   "metadata": {},
   "outputs": [
    {
     "name": "stdout",
     "output_type": "stream",
     "text": [
      "{100: 200, 'key2': 500, 'key3': 'amit'}\n"
     ]
    }
   ],
   "source": [
    "dict_one={100:200,\"key2\":500,\"key3\":\"amit\"}\n",
    "print(dict_one)"
   ]
  },
  {
   "cell_type": "code",
   "execution_count": 60,
   "id": "c49f26de-8b7a-4b46-a690-db47c996589f",
   "metadata": {},
   "outputs": [
    {
     "name": "stdout",
     "output_type": "stream",
     "text": [
      "amit\n"
     ]
    }
   ],
   "source": [
    "print(dict_one[\"key3\"])"
   ]
  },
  {
   "cell_type": "markdown",
   "id": "66434e23-97d5-4bf5-bd61-1959f497d0ba",
   "metadata": {},
   "source": [
    "### Change Item"
   ]
  },
  {
   "cell_type": "code",
   "execution_count": 62,
   "id": "4a8e52cb-cd35-4763-aa52-6de0a5e871c5",
   "metadata": {},
   "outputs": [
    {
     "name": "stdout",
     "output_type": "stream",
     "text": [
      "{100: 200, 'key2': 'python', 'key3': 'amit'}\n"
     ]
    }
   ],
   "source": [
    "dict_one[\"key2\"]=\"python\"\n",
    "print(dict_one)"
   ]
  },
  {
   "cell_type": "markdown",
   "id": "0ffd38e4-2bd0-465d-b307-da7abfda1e1c",
   "metadata": {},
   "source": [
    "### Add Item"
   ]
  },
  {
   "cell_type": "code",
   "execution_count": 64,
   "id": "991b628e-e0e1-4bc8-b914-db6b0137e0ab",
   "metadata": {},
   "outputs": [
    {
     "name": "stdout",
     "output_type": "stream",
     "text": [
      "{100: 200, 'key2': 'python', 'key3': 'amit', 'key4': 600}\n"
     ]
    }
   ],
   "source": [
    "dict_one[\"key4\"]=600\n",
    "print(dict_one)"
   ]
  },
  {
   "cell_type": "code",
   "execution_count": 72,
   "id": "0c010c80-1d0c-4fe8-a1fe-04cf3a9dc28d",
   "metadata": {},
   "outputs": [
    {
     "name": "stdout",
     "output_type": "stream",
     "text": [
      "{100: 200, 'key2': 'python', 'key3': 'amit', 'key4': 600, 'key5': 600}\n"
     ]
    }
   ],
   "source": [
    "dict_one.update({\"key5\":600})\n",
    "print(dict_one)"
   ]
  },
  {
   "cell_type": "markdown",
   "id": "d3ad117f-d44a-4572-aac6-dab9b1677365",
   "metadata": {},
   "source": [
    "### Remove Item"
   ]
  },
  {
   "cell_type": "code",
   "execution_count": 85,
   "id": "3d48d572-977b-49d3-b7a7-bf8655ee2aab",
   "metadata": {},
   "outputs": [
    {
     "name": "stdout",
     "output_type": "stream",
     "text": [
      "{100: 200, 'key2': [100, 2, 3, 5], 'key3': 'amit'}\n"
     ]
    }
   ],
   "source": [
    "dict_one={100:200,\"key2\":[100,2,3,5],\"key3\":\"amit\"}\n",
    "print(dict_one)"
   ]
  },
  {
   "cell_type": "code",
   "execution_count": 87,
   "id": "fde9fa7e-f60d-4669-a469-578f4e967c0b",
   "metadata": {},
   "outputs": [
    {
     "name": "stdout",
     "output_type": "stream",
     "text": [
      "{100: 200, 'key3': 'amit'}\n"
     ]
    }
   ],
   "source": [
    "dict_one.pop(\"key2\")\n",
    "print(dict_one)"
   ]
  },
  {
   "cell_type": "markdown",
   "id": "cb907761-c8ce-452b-a933-d5373b225a9e",
   "metadata": {},
   "source": [
    "### Dictionary Methods"
   ]
  },
  {
   "cell_type": "code",
   "execution_count": 92,
   "id": "3a7b5c10-b058-4270-87b5-419bb30a98f4",
   "metadata": {},
   "outputs": [
    {
     "name": "stdout",
     "output_type": "stream",
     "text": [
      "dict_keys([100, 'key2', 'key3'])\n"
     ]
    }
   ],
   "source": [
    "dict_one={100:200,\"key2\":[100,2,3,5],\"key3\":\"amit\"}\n",
    "print(dict_one.keys())"
   ]
  },
  {
   "cell_type": "code",
   "execution_count": 94,
   "id": "3adf7888-7fe9-4584-9c52-28ec1cd5efe9",
   "metadata": {},
   "outputs": [
    {
     "name": "stdout",
     "output_type": "stream",
     "text": [
      "dict_values([200, [100, 2, 3, 5], 'amit'])\n"
     ]
    }
   ],
   "source": [
    "print(dict_one.values())"
   ]
  },
  {
   "cell_type": "code",
   "execution_count": 96,
   "id": "4e950f02-9bcc-4101-abb0-9a2a6b94643a",
   "metadata": {},
   "outputs": [
    {
     "name": "stdout",
     "output_type": "stream",
     "text": [
      "dict_items([(100, 200), ('key2', [100, 2, 3, 5]), ('key3', 'amit')])\n"
     ]
    }
   ],
   "source": [
    "print(dict_one.items())"
   ]
  },
  {
   "cell_type": "code",
   "execution_count": 110,
   "id": "490ee074-7d54-4a47-be45-1f9ae7959afa",
   "metadata": {},
   "outputs": [
    {
     "name": "stdout",
     "output_type": "stream",
     "text": [
      "#\n"
     ]
    }
   ],
   "source": [
    "print(dict_one.get(\"key5\",\"#\"))"
   ]
  },
  {
   "cell_type": "code",
   "execution_count": 112,
   "id": "27e1a6e9-068a-468e-b5a8-fc13e6f1d2db",
   "metadata": {},
   "outputs": [],
   "source": [
    "dict_one.clear()"
   ]
  },
  {
   "cell_type": "code",
   "execution_count": 114,
   "id": "097f084a-12ae-404e-8c09-bebd5c033b2f",
   "metadata": {},
   "outputs": [
    {
     "name": "stdout",
     "output_type": "stream",
     "text": [
      "{}\n"
     ]
    }
   ],
   "source": [
    "print(dict_one)"
   ]
  },
  {
   "cell_type": "code",
   "execution_count": 126,
   "id": "acfba628-9e65-42fb-94e1-f9b12be7ef5f",
   "metadata": {},
   "outputs": [],
   "source": [
    "dict_one={100:200,\"key2\":[100,2,3,5],\"key3\":\"amit\"}\n",
    "dict_two=dict_one.copy()"
   ]
  },
  {
   "cell_type": "code",
   "execution_count": 132,
   "id": "5ca2f360-3411-4c72-b42e-a512f333102e",
   "metadata": {},
   "outputs": [],
   "source": [
    "dict_two[\"key2\"].append(100)"
   ]
  },
  {
   "cell_type": "code",
   "execution_count": 134,
   "id": "9c294597-4002-458e-9034-2568168b2874",
   "metadata": {},
   "outputs": [
    {
     "name": "stdout",
     "output_type": "stream",
     "text": [
      "{100: 200, 'key2': [100, 2, 3, 5, 100], 'key3': 'amit'}\n"
     ]
    }
   ],
   "source": [
    "print(dict_one)"
   ]
  },
  {
   "cell_type": "code",
   "execution_count": 140,
   "id": "810ae528-0009-4b14-a6a9-61ad42326632",
   "metadata": {},
   "outputs": [],
   "source": [
    "dict_one={100:200,\"key2\":[100,2,3,5],\"key3\":\"amit\"}\n",
    "dict_two=dict_one.copy()\n",
    "dict_two[\"key2\"]=dict_one[\"key2\"].copy()\n",
    "dict_two[\"key2\"].append(100)"
   ]
  },
  {
   "cell_type": "code",
   "execution_count": 142,
   "id": "3078623a-a841-4c78-a8c9-82fcfc0fce3c",
   "metadata": {},
   "outputs": [
    {
     "name": "stdout",
     "output_type": "stream",
     "text": [
      "{100: 200, 'key2': [100, 2, 3, 5], 'key3': 'amit'}\n"
     ]
    }
   ],
   "source": [
    "print(dict_one)"
   ]
  },
  {
   "cell_type": "code",
   "execution_count": 144,
   "id": "0c0fbd87-c3b6-464f-8cb5-37fec50399c6",
   "metadata": {},
   "outputs": [
    {
     "name": "stdout",
     "output_type": "stream",
     "text": [
      "{100: 200, 'key2': [100, 2, 3, 5, 100], 'key3': 'amit'}\n"
     ]
    }
   ],
   "source": [
    "print(dict_two)"
   ]
  },
  {
   "cell_type": "code",
   "execution_count": 146,
   "id": "44bfe261-960c-457d-8af0-e3e546ac68b7",
   "metadata": {},
   "outputs": [
    {
     "name": "stdout",
     "output_type": "stream",
     "text": [
      "{100: 200, 'key2': 'amit'}\n"
     ]
    }
   ],
   "source": [
    "dict_one={100:200,\"key2\":[100,2,3,5],\"key2\":\"amit\"}\n",
    "print(dict_one)\n"
   ]
  },
  {
   "cell_type": "code",
   "execution_count": 156,
   "id": "a0e8a005-e892-4b52-a1c6-4d2232f5d5ec",
   "metadata": {},
   "outputs": [
    {
     "name": "stdout",
     "output_type": "stream",
     "text": [
      "200\n"
     ]
    }
   ],
   "source": [
    "dict_one={\"key1\":{\"key1\":100,\"key2\":200},\"key2\":\"amit\"}\n",
    "print(dict_one[\"key1\"]['key2'])"
   ]
  },
  {
   "cell_type": "code",
   "execution_count": 172,
   "id": "f089bc65-f682-4b7a-9463-f19eefbbbbcf",
   "metadata": {},
   "outputs": [
    {
     "name": "stdout",
     "output_type": "stream",
     "text": [
      "{'key1': 'key2', 1: 2}\n"
     ]
    }
   ],
   "source": [
    "name={(1,2),(\"key1\",\"key2\")}\n",
    "print(dict(name))"
   ]
  },
  {
   "attachments": {},
   "cell_type": "markdown",
   "id": "43f2eb7f-283b-4556-a952-e2d90d03b57e",
   "metadata": {},
   "source": [
    "# Arithmetic Operations\r\n"
   ]
  },
  {
   "cell_type": "code",
   "execution_count": 196,
   "id": "44490d09-bd96-4ee8-8d4d-0bd992dfe84c",
   "metadata": {},
   "outputs": [
    {
     "name": "stdout",
     "output_type": "stream",
     "text": [
      "1.6666666666666667\n"
     ]
    }
   ],
   "source": [
    "print(5/3)"
   ]
  },
  {
   "cell_type": "code",
   "execution_count": 194,
   "id": "f3f5043e-875c-4149-853d-7ae08f3a4826",
   "metadata": {},
   "outputs": [
    {
     "name": "stdout",
     "output_type": "stream",
     "text": [
      "1\n"
     ]
    }
   ],
   "source": [
    "print(5//3)"
   ]
  },
  {
   "cell_type": "code",
   "execution_count": 206,
   "id": "0a0300ef-8816-4f48-b8f8-ef4e8308afbe",
   "metadata": {},
   "outputs": [
    {
     "name": "stdout",
     "output_type": "stream",
     "text": [
      "2\n"
     ]
    }
   ],
   "source": [
    "print(round(5/3))"
   ]
  },
  {
   "cell_type": "code",
   "execution_count": 215,
   "id": "f487b6d2-1c9c-4fba-9db9-1f87f4cc0f1d",
   "metadata": {},
   "outputs": [
    {
     "name": "stdout",
     "output_type": "stream",
     "text": [
      "2.0\n"
     ]
    }
   ],
   "source": [
    "print(4/2)"
   ]
  },
  {
   "cell_type": "code",
   "execution_count": 217,
   "id": "ddda8235-42e7-439e-9d81-e554694cf84e",
   "metadata": {},
   "outputs": [
    {
     "name": "stdout",
     "output_type": "stream",
     "text": [
      "0\n"
     ]
    }
   ],
   "source": [
    "print(4%2)"
   ]
  },
  {
   "cell_type": "code",
   "execution_count": 219,
   "id": "e930cc70-364d-425d-8d2e-16f27ffbcb80",
   "metadata": {},
   "outputs": [
    {
     "name": "stdout",
     "output_type": "stream",
     "text": [
      "3.3333333333333335\n"
     ]
    }
   ],
   "source": [
    "print(10/3)"
   ]
  },
  {
   "cell_type": "code",
   "execution_count": 221,
   "id": "b93766d6-c27b-4734-8c4d-f7d442ba3a8d",
   "metadata": {},
   "outputs": [
    {
     "name": "stdout",
     "output_type": "stream",
     "text": [
      "1\n"
     ]
    }
   ],
   "source": [
    "print(10%3)"
   ]
  },
  {
   "cell_type": "code",
   "execution_count": 223,
   "id": "d650988a-bd29-4597-b391-e5931b682639",
   "metadata": {},
   "outputs": [
    {
     "name": "stdout",
     "output_type": "stream",
     "text": [
      "4.5\n"
     ]
    }
   ],
   "source": [
    "print(9/2)"
   ]
  },
  {
   "cell_type": "code",
   "execution_count": 225,
   "id": "c32addef-a4b0-478a-a591-19137df7678f",
   "metadata": {},
   "outputs": [
    {
     "name": "stdout",
     "output_type": "stream",
     "text": [
      "4.0\n"
     ]
    }
   ],
   "source": [
    "print(8/2)"
   ]
  },
  {
   "cell_type": "code",
   "execution_count": 227,
   "id": "f3668971-c1ec-437d-b6f0-d2242c42326c",
   "metadata": {},
   "outputs": [
    {
     "name": "stdout",
     "output_type": "stream",
     "text": [
      "1\n"
     ]
    }
   ],
   "source": [
    "print(9%2)"
   ]
  },
  {
   "cell_type": "code",
   "execution_count": 229,
   "id": "81041dc2-e6ec-4514-9a3b-8da09cfbf87a",
   "metadata": {},
   "outputs": [
    {
     "name": "stdout",
     "output_type": "stream",
     "text": [
      "1\n"
     ]
    }
   ],
   "source": [
    "print(7%2)"
   ]
  },
  {
   "cell_type": "code",
   "execution_count": 231,
   "id": "9c6530aa-9440-4a1d-87dc-0680a9f5c716",
   "metadata": {},
   "outputs": [
    {
     "name": "stdout",
     "output_type": "stream",
     "text": [
      "4.6\n"
     ]
    }
   ],
   "source": [
    "print(23/5)"
   ]
  },
  {
   "cell_type": "code",
   "execution_count": 233,
   "id": "566b9840-8e27-4040-8105-a4bcaf231986",
   "metadata": {},
   "outputs": [
    {
     "name": "stdout",
     "output_type": "stream",
     "text": [
      "4.4\n"
     ]
    }
   ],
   "source": [
    "print(22/5)"
   ]
  },
  {
   "cell_type": "code",
   "execution_count": 235,
   "id": "3a0c95a4-2df5-4025-b1cd-6097a704b40f",
   "metadata": {},
   "outputs": [
    {
     "name": "stdout",
     "output_type": "stream",
     "text": [
      "4.2\n"
     ]
    }
   ],
   "source": [
    "print(21/5)"
   ]
  },
  {
   "cell_type": "code",
   "execution_count": 237,
   "id": "a81e9b27-7539-49ba-8f83-82d55a2742f7",
   "metadata": {},
   "outputs": [
    {
     "name": "stdout",
     "output_type": "stream",
     "text": [
      "4.0\n"
     ]
    }
   ],
   "source": [
    "print(20/5)"
   ]
  },
  {
   "cell_type": "code",
   "execution_count": 249,
   "id": "1f0d92d5-1a93-43a2-abba-1e6bcf6b6419",
   "metadata": {},
   "outputs": [
    {
     "name": "stdout",
     "output_type": "stream",
     "text": [
      "3\n"
     ]
    }
   ],
   "source": [
    "print(23%5) # It is used to gind the remainder when the first operand is divided by the second."
   ]
  },
  {
   "cell_type": "code",
   "execution_count": 251,
   "id": "7dbc0c29-3851-416f-93d8-7a7ad962a2c9",
   "metadata": {},
   "outputs": [
    {
     "name": "stdout",
     "output_type": "stream",
     "text": [
      "8\n"
     ]
    }
   ],
   "source": [
    "print(2**3) #  It is used to raise the first operand to the power of the second. "
   ]
  },
  {
   "cell_type": "markdown",
   "id": "d696b870-3bb5-4526-b3af-48dd30d4fbe3",
   "metadata": {},
   "source": [
    "# Comparsion Operators "
   ]
  },
  {
   "cell_type": "code",
   "execution_count": 256,
   "id": "11cdb029-2132-45b6-8b05-9512e078ba6b",
   "metadata": {},
   "outputs": [
    {
     "name": "stdout",
     "output_type": "stream",
     "text": [
      "False\n"
     ]
    }
   ],
   "source": [
    "print(5 == 10) # Equal to"
   ]
  },
  {
   "cell_type": "code",
   "execution_count": 260,
   "id": "d1ac1c57-7529-4ba3-b77c-503e294edd5b",
   "metadata": {},
   "outputs": [
    {
     "name": "stdout",
     "output_type": "stream",
     "text": [
      "False\n"
     ]
    }
   ],
   "source": [
    "print(5 != 5)  # Not Equal to "
   ]
  },
  {
   "cell_type": "code",
   "execution_count": 264,
   "id": "2c2c3c6e-836e-4364-b2a6-9c8ee283edea",
   "metadata": {},
   "outputs": [
    {
     "name": "stdout",
     "output_type": "stream",
     "text": [
      "False\n"
     ]
    }
   ],
   "source": [
    "print(5>10) # Greater than"
   ]
  },
  {
   "cell_type": "code",
   "execution_count": 268,
   "id": "ca1c5023-a2f4-4ffe-b1a8-685a2d1edda9",
   "metadata": {},
   "outputs": [
    {
     "name": "stdout",
     "output_type": "stream",
     "text": [
      "True\n"
     ]
    }
   ],
   "source": [
    "print(5<10) # Less Than"
   ]
  },
  {
   "cell_type": "code",
   "execution_count": 270,
   "id": "0faf479c-d02f-4867-b05e-5fc2638347f0",
   "metadata": {},
   "outputs": [
    {
     "name": "stdout",
     "output_type": "stream",
     "text": [
      "True\n"
     ]
    }
   ],
   "source": [
    "print(5>=5) # Greater than"
   ]
  },
  {
   "cell_type": "code",
   "execution_count": 274,
   "id": "97b43c2d-92d6-4e4e-b85a-533598d9ec17",
   "metadata": {},
   "outputs": [
    {
     "name": "stdout",
     "output_type": "stream",
     "text": [
      "True\n"
     ]
    }
   ],
   "source": [
    "print(5<= 10) # Less than"
   ]
  },
  {
   "cell_type": "code",
   "execution_count": 288,
   "id": "04a96cfc-ecfe-4dc5-8ac4-ee3e4e3bffe5",
   "metadata": {},
   "outputs": [
    {
     "name": "stdout",
     "output_type": "stream",
     "text": [
      "True\n",
      "True\n",
      "True\n"
     ]
    }
   ],
   "source": [
    "a=5\n",
    "print(1<a<10) # Chaining Comparision Operators\n",
    "print(10>a<=9)\n",
    "print(a<10<a*10==50)"
   ]
  },
  {
   "cell_type": "code",
   "execution_count": 282,
   "id": "4bc1050b-db9a-4dfa-acce-2e0e0429969c",
   "metadata": {},
   "outputs": [
    {
     "data": {
      "text/plain": [
       "50"
      ]
     },
     "execution_count": 282,
     "metadata": {},
     "output_type": "execute_result"
    }
   ],
   "source": [
    "5*10\n"
   ]
  },
  {
   "cell_type": "code",
   "execution_count": null,
   "id": "33d34881-095f-4327-823e-000845c2710f",
   "metadata": {},
   "outputs": [],
   "source": []
  }
 ],
 "metadata": {
  "kernelspec": {
   "display_name": "Python 3 (ipykernel)",
   "language": "python",
   "name": "python3"
  },
  "language_info": {
   "codemirror_mode": {
    "name": "ipython",
    "version": 3
   },
   "file_extension": ".py",
   "mimetype": "text/x-python",
   "name": "python",
   "nbconvert_exporter": "python",
   "pygments_lexer": "ipython3",
   "version": "3.12.4"
  }
 },
 "nbformat": 4,
 "nbformat_minor": 5
}
